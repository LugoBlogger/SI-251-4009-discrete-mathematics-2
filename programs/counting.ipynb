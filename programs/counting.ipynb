{
 "cells": [
  {
   "cell_type": "markdown",
   "id": "80d08e2b",
   "metadata": {},
   "source": [
    "Logs\n",
    "- [2025/09/03]   \n",
    "  We enumerate all the possible combinations or permutations for some problems\n",
    "  in (Rosen, 2019) - Chapter 6\n"
   ]
  },
  {
   "cell_type": "code",
   "execution_count": 2,
   "id": "f5c3be58",
   "metadata": {},
   "outputs": [],
   "source": [
    "import numpy as np\n",
    "\n",
    "from itertools import combinations_with_replacement"
   ]
  },
  {
   "cell_type": "markdown",
   "id": "e8a40ef2",
   "metadata": {},
   "source": [
    "**Example 10**"
   ]
  },
  {
   "cell_type": "code",
   "execution_count": 5,
   "id": "07268cd1",
   "metadata": {},
   "outputs": [],
   "source": [
    "def distribute_games(total_games, num_days):\n",
    "  if total_games < num_days:\n",
    "    print(\"Not enough games to assign at least one per day.\")\n",
    "    return []\n",
    "\n",
    "  # We assign 1 game to each day first\n",
    "  base_games = [1] * num_days\n",
    "  remaining = total_games - num_days    \n",
    "\n",
    "  distributions = []\n",
    "\n",
    "  # Generate all ways to distribute 'remaining' identical games into 'num_days\" days\n",
    "  # This is equivalent to finding multisets of size 'remaining' from 7 days\n",
    "  # Each multiset corresponds to which days get extra games\n",
    "\n",
    "  # We use combinatoins_with_replacement on indices (0 to 6) to represent which day gets an extra game\n",
    "  # Each combination represent the days that get +1 game (with repetition allowed)\n",
    "\n",
    "  # Example: (0, 0) -> day 0 gets 2 extra games\n",
    "  #          (0, 1) -> day 0 and 1 get 1 extra each\n",
    "\n",
    "  for combo in combinations_with_replacement(range(num_days), remaining):\n",
    "    dist = base_games[:]      # copy base: one game per day\n",
    "    for day_index in combo:\n",
    "      dist[day_index] += 1\n",
    "    \n",
    "    distributions.append(dist)\n",
    "\n",
    "  return distributions\n",
    "\n"
   ]
  },
  {
   "cell_type": "code",
   "execution_count": 6,
   "id": "a6dc2051",
   "metadata": {},
   "outputs": [
    {
     "name": "stdout",
     "output_type": "stream",
     "text": [
      "Total number of valid distributions: 28\n",
      "\n",
      " 1: [3, 1, 1, 1, 1, 1, 1] (sum = 9)\n",
      " 2: [2, 2, 1, 1, 1, 1, 1] (sum = 9)\n",
      " 3: [2, 1, 2, 1, 1, 1, 1] (sum = 9)\n",
      " 4: [2, 1, 1, 2, 1, 1, 1] (sum = 9)\n",
      " 5: [2, 1, 1, 1, 2, 1, 1] (sum = 9)\n",
      " 6: [2, 1, 1, 1, 1, 2, 1] (sum = 9)\n",
      " 7: [2, 1, 1, 1, 1, 1, 2] (sum = 9)\n",
      " 8: [1, 3, 1, 1, 1, 1, 1] (sum = 9)\n",
      " 9: [1, 2, 2, 1, 1, 1, 1] (sum = 9)\n",
      "10: [1, 2, 1, 2, 1, 1, 1] (sum = 9)\n",
      "11: [1, 2, 1, 1, 2, 1, 1] (sum = 9)\n",
      "12: [1, 2, 1, 1, 1, 2, 1] (sum = 9)\n",
      "13: [1, 2, 1, 1, 1, 1, 2] (sum = 9)\n",
      "14: [1, 1, 3, 1, 1, 1, 1] (sum = 9)\n",
      "15: [1, 1, 2, 2, 1, 1, 1] (sum = 9)\n",
      "16: [1, 1, 2, 1, 2, 1, 1] (sum = 9)\n",
      "17: [1, 1, 2, 1, 1, 2, 1] (sum = 9)\n",
      "18: [1, 1, 2, 1, 1, 1, 2] (sum = 9)\n",
      "19: [1, 1, 1, 3, 1, 1, 1] (sum = 9)\n",
      "20: [1, 1, 1, 2, 2, 1, 1] (sum = 9)\n",
      "21: [1, 1, 1, 2, 1, 2, 1] (sum = 9)\n",
      "22: [1, 1, 1, 2, 1, 1, 2] (sum = 9)\n",
      "23: [1, 1, 1, 1, 3, 1, 1] (sum = 9)\n",
      "24: [1, 1, 1, 1, 2, 2, 1] (sum = 9)\n",
      "25: [1, 1, 1, 1, 2, 1, 2] (sum = 9)\n",
      "26: [1, 1, 1, 1, 1, 3, 1] (sum = 9)\n",
      "27: [1, 1, 1, 1, 1, 2, 2] (sum = 9)\n",
      "28: [1, 1, 1, 1, 1, 1, 3] (sum = 9)\n"
     ]
    }
   ],
   "source": [
    "total_games = 9\n",
    "num_days = 7\n",
    "\n",
    "distributions = distribute_games(total_games, num_days)\n",
    "\n",
    "print(f\"Total number of valid distributions: {len(distributions)}\\n\")\n",
    "for i, dist in enumerate(distributions, 1):\n",
    "  print(f\"{i:2d}: {dist} (sum = {sum(dist)})\")"
   ]
  },
  {
   "cell_type": "markdown",
   "id": "a99fa0ad",
   "metadata": {},
   "source": [
    "If we decide to find the consecutive days where the team must play exactly 4 games, \n",
    "we can see there is a way to find that in each combination"
   ]
  },
  {
   "cell_type": "markdown",
   "id": "f7acdd2e",
   "metadata": {},
   "source": [
    "*Solution*: Let $a_j$ be the number of games played on or before the $j$-th day of the week. \n",
    "Then $a_1, a_2, \\ldots, a_7$ is an increasing sequence of distinct positive integers, \n",
    "with $1 \\leq a_j \\leq 9$. Moreover, $a_1 + 4, a_2 + 4, \\ldots, a_7 + 4$ is also \n",
    "an increasing sequence of distinct positive integers, with $5 \\leq a_j + 4 \\leq 13$.\n",
    "\n",
    "The 14 positive integers $a_1, a_2, \\ldots, a_7, a_1 + 5, a_2 + 5, \\ldots, a_7 + 5$ \n",
    "are all less than or equal to 13. Hence, by the pigeonhole principle two of \n",
    "these integers are equal (two integers each from those positive integer sets). \n",
    "Because the integer $a_j, j=1, 2, \\ldots, 7$ are all distinct and the integers\n",
    "$a_j + 4, j = 1, 2, \\ldots, 7$ are all distinct, there must be indices $i$ \n",
    "and $j$ with $a_i = a+j + 4$. This means that exactly 4 games were played\n",
    "from day $j+1$ to day $i$."
   ]
  }
 ],
 "metadata": {
  "kernelspec": {
   "display_name": "base",
   "language": "python",
   "name": "python3"
  },
  "language_info": {
   "codemirror_mode": {
    "name": "ipython",
    "version": 3
   },
   "file_extension": ".py",
   "mimetype": "text/x-python",
   "name": "python",
   "nbconvert_exporter": "python",
   "pygments_lexer": "ipython3",
   "version": "3.11.5"
  }
 },
 "nbformat": 4,
 "nbformat_minor": 5
}
